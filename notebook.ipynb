{
 "cells": [
  {
   "cell_type": "code",
   "execution_count": 2,
   "metadata": {},
   "outputs": [],
   "source": [
    "from mistralai.client import MistralClient\n",
    "from mistralai.models.chat_completion import ChatMessage\n",
    "client = MistralClient()"
   ]
  },
  {
   "cell_type": "code",
   "execution_count": 3,
   "metadata": {},
   "outputs": [],
   "source": [
    "from duckduckgo_search import DDGS\n",
    "\n",
    "def web_search(query: str, max_results: int = 10) -> str:\n",
    "    \"\"\"\n",
    "    Searched the web for the provided query, and returns the title, URL and description of the results.\n",
    "    Search results are separated by: =====\n",
    "\n",
    "    Example of two search results:\n",
    "\n",
    "    Title: Welcome to My Site\n",
    "    URL: http://www.mysite.xyz\n",
    "    Description: This is my private website, see my stuff here\n",
    "    =====\n",
    "    Title: Grapes Online\n",
    "    URL: http://www.grapes.com\n",
    "    Description: This is the number one site for grapes fans and lovers\n",
    "    \"\"\"\n",
    "    if max_results < 1: max_results = 1\n",
    "    elif max_results > 10: max_results = 10\n",
    "\n",
    "    ddgs = DDGS()\n",
    "    outputs = list()\n",
    "        \n",
    "    results = ddgs.text(query, max_results=max_results)\n",
    "\n",
    "    try:\n",
    "        for result in results:\n",
    "            url = result['href']\n",
    "            if url is None:\n",
    "                continue\n",
    "            body = result['body']\n",
    "            title = result['title'] or ''\n",
    "            outputs.append(f\"Title: {title}\\nURL: {url}\\nDescription: {body}\\n\")\n",
    "    \n",
    "    except Exception as e:\n",
    "        return f\"Error while searching the web: {e}\"\n",
    "\n",
    "    if outputs:\n",
    "        return '\\n=====\\n'.join(outputs)\n",
    "    else:\n",
    "        return \"No results\"\n",
    "    \n",
    "tools_def = {\n",
    "    web_search: [(\"query\", {\"type\": \"string\", \"description\": \"The query to search on the web\"}, True),\n",
    "                 (\"max_results\", {\"type\": \"number\", \"description\": \"Maximal number of results to retrieve. Must be between 1 and 10, default is 10.\"}, False)]\n",
    "}\n",
    "\n",
    "def build_tools():\n",
    "    tools = list()\n",
    "    for func, v in tools_def.items():\n",
    "        params = {}\n",
    "        required = []\n",
    "        for p in v:\n",
    "            params[p[0]] = p[1]\n",
    "            if p[2]: \n",
    "                required.append(p[0])\n",
    "\n",
    "        tools.append({\n",
    "            \"type\": \"function\",\n",
    "            \"function\": {\n",
    "                \"name\": func.__name__,\n",
    "                \"description\": func.__doc__,\n",
    "                \"parameters\": {\n",
    "                    \"type\": \"object\",\n",
    "                    \"properties\": params\n",
    "                },\n",
    "                \"required\": required\n",
    "            }\n",
    "        })\n",
    "    return tools "
   ]
  },
  {
   "cell_type": "code",
   "execution_count": 8,
   "metadata": {},
   "outputs": [
    {
     "data": {
      "text/plain": [
       "ChatCompletionResponse(id='b210ef3aa929490cbebdb158bc52f2a9', object='chat.completion', created=1711645353, model='mistral-small-latest', choices=[ChatCompletionResponseChoice(index=0, message=ChatMessage(role='assistant', content='Bruno is a male given name of Germanic origin. The name Bruno is derived from the Old High German word \"brun\" or \"bruno,\" which means \"brown\" or \"shield.\" It was a common name among the Germanic peoples in the early Middle Ages, and it was also the name of several saints, including Saint Bruno of Cologne, the founder of the Carthusian Order. In modern times, the name Bruno is still used in many countries, especially in German-speaking countries, Italy, and the United States. According to the Social Security Administration, Bruno was ranked as the 605th most popular boy\\'s name in the United States in 2020.', name=None, tool_calls=None), finish_reason=<FinishReason.stop: 'stop'>)], usage=UsageInfo(prompt_tokens=22, total_tokens=173, completion_tokens=151))"
      ]
     },
     "execution_count": 8,
     "metadata": {},
     "output_type": "execute_result"
    }
   ],
   "source": [
    "messages = [\n",
    "    ChatMessage(role=\"system\", content=\"You are an AI assistant named Bruno\"),\n",
    "    ChatMessage(role=\"user\", content=\"Search the ewb for the meaning of your name\")\n",
    "]\n",
    "response = client.chat(model='mistral-small-latest', messages=messages)\n",
    "\n",
    "response"
   ]
  }
 ],
 "metadata": {
  "kernelspec": {
   "display_name": ".venv",
   "language": "python",
   "name": "python3"
  },
  "language_info": {
   "codemirror_mode": {
    "name": "ipython",
    "version": 3
   },
   "file_extension": ".py",
   "mimetype": "text/x-python",
   "name": "python",
   "nbconvert_exporter": "python",
   "pygments_lexer": "ipython3",
   "version": "3.11.3"
  }
 },
 "nbformat": 4,
 "nbformat_minor": 2
}
